{
 "cells": [
  {
   "cell_type": "code",
   "execution_count": 1,
   "metadata": {},
   "outputs": [],
   "source": [
    "import sys\n",
    "from PyQt5 import QtCore, QtGui, QtWidgets\n",
    "from PyQt5.QtWidgets import *\n",
    "from PyQt5.QtGui import *\n",
    "from PyQt5.QtWidgets import *\n",
    "from PyQt5 import uic\n",
    "\n",
    "import glob\n",
    "import bert_label\n",
    "import regex as re\n",
    "\n",
    "form_class = uic.loadUiType(\"chexbert.ui\")[0]\n",
    "\n",
    "class chexbertUI(QMainWindow, form_class) :\n",
    "    def __init__(self) :\n",
    "        super().__init__()\n",
    "        self.setupUi(self)\n",
    "        \n",
    "        self.dataset_dir = r'../datasets/판독문&CXR/mimic_sample_3474/'\n",
    "        file_list = [f.split('\\\\')[-1].split('.')[0] for f in glob.glob(self.dataset_dir+'reports/*.txt')]\n",
    "        self.listWidget.addItems(file_list)\n",
    "        \n",
    "        #--함수 연결\n",
    "        self.listWidget.itemSelectionChanged.connect(self.listWidget_selected)\n",
    "        \n",
    "        \n",
    "    #--함수\n",
    "    def listWidget_selected(self):\n",
    "        num = self.listWidget.selectedItems()[0].text()\n",
    "        self.change_original_img(num)\n",
    "        self.change_report(num)\n",
    "        \n",
    "        if (str(self.method_selector_combobox.currentText())) == 'ChexBert':\n",
    "            self.run_bert_labeler()\n",
    "        elif (str(self.method_selector_combobox.currentText())) == 'ChexPert':\n",
    "            pass\n",
    "        else:\n",
    "            pass\n",
    "        \n",
    "    def change_original_img(self, num):\n",
    "        original_img_pix = QPixmap()\n",
    "        print(self.dataset_dir+r'images\\\\'+num+'.jpg is Opened')\n",
    "        original_img_pix.load(self.dataset_dir+r'images\\\\'+num+'.jpg')\n",
    "        original_img_pix = original_img_pix.scaledToWidth(self.original_img.width())\n",
    "        self.original_img.setPixmap(original_img_pix)\n",
    "\n",
    "    def change_report(self, num):\n",
    "        with open(self.dataset_dir+r'reports\\\\'+num+'.txt', 'r') as f:\n",
    "            lines = f.readlines()\n",
    "        report = '\\n'.join(lines)\n",
    "        self.report_te.setText(report)\n",
    "    \n",
    "    def run_bert_labeler(self):\n",
    "        text = self.report_te.toPlainText()\n",
    "        text = text.split('IMPRESSION:')[-1]\n",
    "        text = re.sub('\\n', '', text)\n",
    "        df = bert_label.run(text, 'ckpt/chexbert.pth')\n",
    "        \n",
    "        self.cardio_nlp_label.setText(df['Cardiomegaly'].to_string(index=False))\n",
    "        self.consol_nlp_label.setText(df['Consolidation'].to_string(index=False))\n",
    "        self.pneumo_nlp_label.setText(df['Pneumothorax'].to_string(index=False))\n",
    "        self.effusion_nlp_label.setText(df['Pleural Effusion'].to_string(index=False))\n",
    "        \n",
    "        "
   ]
  },
  {
   "cell_type": "code",
   "execution_count": 2,
   "metadata": {},
   "outputs": [
    {
     "name": "stdout",
     "output_type": "stream",
     "text": [
      "../datasets/판독문&CXR/mimic_sample_3474/images\\\\0001.jpg is Opened\n",
      "../datasets/판독문&CXR/mimic_sample_3474/images\\\\0012.jpg is Opened\n",
      "../datasets/판독문&CXR/mimic_sample_3474/images\\\\0011.jpg is Opened\n"
     ]
    },
    {
     "name": "stderr",
     "output_type": "stream",
     "text": [
      "100%|███████████████████████████████████████████████████████████████████████████████████| 1/1 [00:00<00:00, 249.90it/s]"
     ]
    },
    {
     "name": "stdout",
     "output_type": "stream",
     "text": [
      "\n",
      "Tokenizing report impressions. All reports are cut off at 512 tokens.\n"
     ]
    },
    {
     "name": "stderr",
     "output_type": "stream",
     "text": [
      "\n",
      "  0%|                                                                                            | 0/1 [00:00<?, ?it/s]"
     ]
    },
    {
     "name": "stdout",
     "output_type": "stream",
     "text": [
      "\n",
      "Begin report impression labeling. The progress bar counts the # of batches completed:\n",
      "The batch size is 32\n"
     ]
    },
    {
     "name": "stderr",
     "output_type": "stream",
     "text": [
      "100%|████████████████████████████████████████████████████████████████████████████████████| 1/1 [00:00<00:00,  3.12it/s]"
     ]
    },
    {
     "name": "stdout",
     "output_type": "stream",
     "text": [
      "14 0 tensor([0])\n",
      "14 1 tensor([1])\n",
      "14 2 tensor([0])\n",
      "14 3 tensor([0])\n",
      "14 4 tensor([1])\n",
      "14 5 tensor([0])\n",
      "14 6 tensor([0])\n",
      "14 7 tensor([0])\n",
      "14 8 tensor([0])\n",
      "14 9 tensor([0])\n",
      "14 10 tensor([0])\n",
      "14 11 tensor([0])\n",
      "14 12 tensor([0])\n",
      "14 13 tensor([0])\n"
     ]
    },
    {
     "name": "stderr",
     "output_type": "stream",
     "text": [
      "\n"
     ]
    },
    {
     "name": "stdout",
     "output_type": "stream",
     "text": [
      "../datasets/판독문&CXR/mimic_sample_3474/images\\\\0012.jpg is Opened\n"
     ]
    },
    {
     "name": "stderr",
     "output_type": "stream",
     "text": [
      "100%|██████████████████████████████████████████████████████████████████████████████████| 1/1 [00:00<00:00, 1000.79it/s]"
     ]
    },
    {
     "name": "stdout",
     "output_type": "stream",
     "text": [
      "\n",
      "Tokenizing report impressions. All reports are cut off at 512 tokens.\n"
     ]
    },
    {
     "name": "stderr",
     "output_type": "stream",
     "text": [
      "\n",
      "  0%|                                                                                            | 0/1 [00:00<?, ?it/s]"
     ]
    },
    {
     "name": "stdout",
     "output_type": "stream",
     "text": [
      "\n",
      "Begin report impression labeling. The progress bar counts the # of batches completed:\n",
      "The batch size is 32\n"
     ]
    },
    {
     "name": "stderr",
     "output_type": "stream",
     "text": [
      "100%|████████████████████████████████████████████████████████████████████████████████████| 1/1 [00:00<00:00,  3.24it/s]"
     ]
    },
    {
     "name": "stdout",
     "output_type": "stream",
     "text": [
      "14 0 tensor([0])\n",
      "14 1 tensor([0])\n",
      "14 2 tensor([0])\n",
      "14 3 tensor([0])\n",
      "14 4 tensor([0])\n",
      "14 5 tensor([0])\n",
      "14 6 tensor([0])\n",
      "14 7 tensor([0])\n",
      "14 8 tensor([0])\n",
      "14 9 tensor([0])\n",
      "14 10 tensor([0])\n",
      "14 11 tensor([0])\n",
      "14 12 tensor([0])\n",
      "14 13 tensor([1])\n"
     ]
    },
    {
     "name": "stderr",
     "output_type": "stream",
     "text": [
      "\n"
     ]
    },
    {
     "data": {
      "text/plain": [
       "0"
      ]
     },
     "execution_count": 2,
     "metadata": {},
     "output_type": "execute_result"
    }
   ],
   "source": [
    "import sys\n",
    "app = QtCore.QCoreApplication.instance()\n",
    "if app is None:\n",
    "    app = QtWidgets.QApplication(sys.argv)\n",
    "    \n",
    "asdf = chexbertUI()\n",
    "asdf.show()\n",
    "app.exec()"
   ]
  },
  {
   "cell_type": "code",
   "execution_count": null,
   "metadata": {},
   "outputs": [],
   "source": []
  }
 ],
 "metadata": {
  "kernelspec": {
   "display_name": "Python [conda env:chexbert] *",
   "language": "python",
   "name": "conda-env-chexbert-py"
  },
  "language_info": {
   "codemirror_mode": {
    "name": "ipython",
    "version": 3
   },
   "file_extension": ".py",
   "mimetype": "text/x-python",
   "name": "python",
   "nbconvert_exporter": "python",
   "pygments_lexer": "ipython3",
   "version": "3.7.9"
  }
 },
 "nbformat": 4,
 "nbformat_minor": 4
}
